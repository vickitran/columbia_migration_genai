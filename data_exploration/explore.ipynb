{
 "cells": [
  {
   "cell_type": "code",
   "execution_count": 3,
   "metadata": {},
   "outputs": [],
   "source": [
    "import pandas as pd\n",
    "import numpy as np"
   ]
  },
  {
   "cell_type": "code",
   "execution_count": 4,
   "metadata": {},
   "outputs": [],
   "source": [
    "a = pd.read_csv(\"Entradas_de_extranjeros_a_Colombia_20241017.csv\")"
   ]
  },
  {
   "cell_type": "code",
   "execution_count": 5,
   "metadata": {},
   "outputs": [],
   "source": [
    "a.columns = [\"Year\",\"Mes\",\"Nationality\",\"ISO_CODE\",\"Female\",\"Masculine\",\"Indefinite\",\"total\",\"latlonraw\"]\n",
    "a['latlona'] = a['latlonraw'].apply(lambda x: x.replace(\"(\",\"\").replace(\")\",\"\").split(\",\"))\n",
    "a['latlon'] = a['latlona'].apply(lambda x: f'[{x[1]},{x[0].replace(\",\",\"\")}]')"
   ]
  },
  {
   "cell_type": "code",
   "execution_count": 6,
   "metadata": {},
   "outputs": [],
   "source": [
    "ab = a.groupby([\"latlon\"])['total'].sum().reset_index()"
   ]
  },
  {
   "cell_type": "code",
   "execution_count": 12,
   "metadata": {},
   "outputs": [],
   "source": [
    "ac = a.groupby(['latlon','Nationality'])['total'].sum().reset_index()\n",
    "countries = ac.groupby(['latlon']).apply(lambda x: x.sort_values('total', ascending=False)[['Nationality','total']].head(1)).reset_index()"
   ]
  },
  {
   "cell_type": "code",
   "execution_count": 13,
   "metadata": {},
   "outputs": [],
   "source": [
    "ad = pd.merge(ab,countries[['Nationality','latlon']],left_on='latlon',right_on='latlon')[['latlon','total','Nationality']]"
   ]
  },
  {
   "cell_type": "code",
   "execution_count": 14,
   "metadata": {},
   "outputs": [],
   "source": [
    "ad['color'] = np.where(ad['Nationality'].isin(['Estados Unidos de América','Venezuela']),ad['Nationality'],'\"#51d1f5\"')\n",
    "ad['color'] = np.where(ad['color']=='Estados Unidos de América','\"#a60be3\"',ad['color'])\n",
    "ad['color'] = np.where(ad['color']=='Venezuela','\"#fcba03\"',ad['color'])"
   ]
  },
  {
   "cell_type": "code",
   "execution_count": 15,
   "metadata": {},
   "outputs": [
    {
     "name": "stdout",
     "output_type": "stream",
     "text": [
      "[{latlon:[-67.47535,6.18189],color:\"#fcba03\",total:830},{latlon:[-67.483929,6.185799],color:\"#fcba03\",total:36845},{latlon:[-67.927521,3.866713],color:\"#fcba03\",total:4046},{latlon:[-69.941278,-4.197703],color:\"#51d1f5\",total:66431},{latlon:[-69.945098,-4.223468],color:\"#51d1f5\",total:15677},{latlon:[-70.356599,-3.790089],color:\"#51d1f5\",total:22},{latlon:[-70.740253,7.088729],color:\"#fcba03\",total:91888},{latlon:[-71.983761,12.165168],color:\"#fcba03\",total:192},{latlon:[-71.989035,12.2205723],color:\"#fcba03\",total:2},{latlon:[-72.129330,11.360009],color:\"#fcba03\",total:927116},{latlon:[-72.405710,8.364293],color:\"#fcba03\",total:28331},{latlon:[-72.409396,8.36068],color:\"#fcba03\",total:155532},{latlon:[-72.453226,7.818934],color:\"#fcba03\",total:2420426},{latlon:[-72.462544,7.916725],color:\"#fcba03\",total:71749},{latlon:[-72.507910,7.927209],color:\"#fcba03\",total:68642},{latlon:[-72.919681,11.528919],color:\"#fcba03\",total:3903},{latlon:[-73.183637,7.128456],color:\"#a60be3\",total:42468},{latlon:[-73.247863,10.433609],color:\"#51d1f5\",total:707},{latlon:[-73.565239,4.077098],color:\"#51d1f5\",total:1},{latlon:[-73.612469,4.16909],color:\"#51d1f5\",total:25},{latlon:[-74.140516,4.697144],color:\"#a60be3\",total:17210990},{latlon:[-74.213989,11.247723],color:\"#51d1f5\",total:12536},{latlon:[-74.232622,11.117806],color:\"#a60be3\",total:13973},{latlon:[-74.642361,4.253669],color:\"#a60be3\",total:395},{latlon:[-74.765397,10.971302],color:\"#51d1f5\",total:8250},{latlon:[-74.776708,10.886611],color:\"#a60be3\",total:423106},{latlon:[-74.784874,-0.193180],color:\"#51d1f5\",total:1732},{latlon:[-75.139263,4.424712],color:\"#fcba03\",total:48},{latlon:[-75.29321,2.947286],color:\"#51d1f5\",total:9},{latlon:[-75.427194,6.17134],color:\"#a60be3\",total:335},{latlon:[-75.427454,6.171601],color:\"#a60be3\",total:3249039},{latlon:[-75.516429,10.445761],color:\"#a60be3\",total:2422278},{latlon:[-75.538003,10.408582],color:\"#51d1f5\",total:215613},{latlon:[-75.681599,9.402978],color:\"#51d1f5\",total:2264},{latlon:[-75.736532,4.815061],color:\"#a60be3\",total:120292},{latlon:[-75.766298,4.452882],color:\"#a60be3\",total:58152},{latlon:[-76.384584,3.541112],color:\"#a60be3\",total:1113563},{latlon:[-76.735404,8.066966],color:\"#51d1f5\",total:397},{latlon:[-76.875963,0.25129],color:\"#51d1f5\",total:45633},{latlon:[-77.067921,3.893038],color:\"#51d1f5\",total:14121},{latlon:[-77.290564,1.397318],color:\"#fcba03\",total:29},{latlon:[-77.346578,8.635765],color:\"#51d1f5\",total:23884},{latlon:[-77.404104,6.228046],color:\"#51d1f5\",total:596},{latlon:[-77.662532,0.814836],color:\"#51d1f5\",total:1070789},{latlon:[-77.762647,7.102626],color:\"#51d1f5\",total:801},{latlon:[-77.847006,0.812436],color:\"#51d1f5\",total:941},{latlon:[-78.751529,1.812361],color:\"#51d1f5\",total:10},{latlon:[-78.763924,1.813928],color:\"#51d1f5\",total:14186},{latlon:[-81.372937,13.3387613],color:\"#a60be3\",total:2565},{latlon:[-81.702563,12.586067],color:\"#51d1f5\",total:279243},{latlon:[-81.703935,12.5744111],color:\"#51d1f5\",total:5148},{latlon:[No Aplica,No Aplica],color:\"#fcba03\",total:106}]\n"
     ]
    }
   ],
   "source": [
    "print(ad[['latlon','color','total']].to_json(orient='records').replace('\"', \"\").replace(\"\\\\\", '\"'))\n"
   ]
  },
  {
   "cell_type": "code",
   "execution_count": 11,
   "metadata": {},
   "outputs": [
    {
     "ename": "SyntaxError",
     "evalue": "unterminated string literal (detected at line 1) (1083187807.py, line 1)",
     "output_type": "error",
     "traceback": [
      "\u001b[0;36m  Cell \u001b[0;32mIn[11], line 1\u001b[0;36m\u001b[0m\n\u001b[0;31m    ad[['latlon','other','total']].to_json(orient='records').replace('\"',\"\").replace('\\','\"')\u001b[0m\n\u001b[0m                                                                                          ^\u001b[0m\n\u001b[0;31mSyntaxError\u001b[0m\u001b[0;31m:\u001b[0m unterminated string literal (detected at line 1)\n"
     ]
    }
   ],
   "source": [
    "ad[['latlon','other','total']].to_json(orient='records').replace('\"',\"\").replace('\\','\"')"
   ]
  },
  {
   "cell_type": "code",
   "execution_count": null,
   "metadata": {},
   "outputs": [],
   "source": []
  }
 ],
 "metadata": {
  "kernelspec": {
   "display_name": "Python 3",
   "language": "python",
   "name": "python3"
  },
  "language_info": {
   "codemirror_mode": {
    "name": "ipython",
    "version": 3
   },
   "file_extension": ".py",
   "mimetype": "text/x-python",
   "name": "python",
   "nbconvert_exporter": "python",
   "pygments_lexer": "ipython3",
   "version": "3.11.6"
  }
 },
 "nbformat": 4,
 "nbformat_minor": 2
}
